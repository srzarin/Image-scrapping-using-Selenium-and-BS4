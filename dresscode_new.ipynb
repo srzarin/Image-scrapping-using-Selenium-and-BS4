{
 "cells": [
  {
   "cell_type": "code",
   "execution_count": null,
   "metadata": {},
   "outputs": [
    {
     "name": "stdout",
     "output_type": "stream",
     "text": [
      "What do you want to download?\n"
     ]
    }
   ],
   "source": [
    "from selenium import webdriver\n",
    "from bs4 import BeautifulSoup\n",
    "import requests\n",
    "import urllib.request\n",
    "import time\n",
    "import sys\n",
    "import os\n",
    "\n",
    "\n",
    "#taking user input\n",
    "print(\"What do you want to download?\")\n",
    "download = input()\n",
    "site = 'https://www.google.com/search?tbm=isch&q='+download\n",
    "\n",
    "\n",
    "#providing driver path\n",
    "driver = webdriver.Firefox(executable_path = 'C:\\Driver\\geckodriver.exe')\n",
    "\n",
    "#passing site url\n",
    "driver.get(site)\n",
    "\n",
    "\n",
    "i = 0\n",
    "\n",
    "while i<7:  \n",
    "\t#for scrolling page\n",
    "    driver.execute_script(\"window.scrollBy(0,document.body.scrollHeight)\")\n",
    "    \n",
    "    try:\n",
    "\t\t#for clicking show more results button\n",
    "        driver.find_element_by_xpath(\"/html/body/div[2]/c-wiz/div[3]/div[1]/div/div/div/div/div[5]/input\").click()\n",
    "    except Exception as e:\n",
    "        pass\n",
    "    time.sleep(5)\n",
    "    i+=1\n",
    "\n",
    "#parsing\n",
    "soup = BeautifulSoup(driver.page_source, 'html.parser')\n",
    "\n",
    "\n",
    "#closing web browser\n",
    "driver.close()\n",
    "\n",
    "\n",
    "#scraping image urls with the help of image tag and class used for images\n",
    "img_tags = soup.find_all(\"img\", class_=\"rg_i\")\n",
    "\n",
    "\n",
    "count = 0\n",
    "for i in img_tags:\n",
    "    #print(i['src'])\n",
    "    try:\n",
    "\t\t#passing image urls one by one and downloading\n",
    "        urllib.request.urlretrieve(i['src'], str(count)+\".jpg\")\n",
    "        count+=1\n",
    "        print(\"Number of images downloaded = \"+str(count),end='\\r')\n",
    "    except Exception as e:\n",
    "        pass"
   ]
  },
  {
   "cell_type": "code",
   "execution_count": null,
   "metadata": {},
   "outputs": [],
   "source": []
  }
 ],
 "metadata": {
  "kernelspec": {
   "display_name": "Python 3",
   "language": "python",
   "name": "python3"
  },
  "language_info": {
   "codemirror_mode": {
    "name": "ipython",
    "version": 3
   },
   "file_extension": ".py",
   "mimetype": "text/x-python",
   "name": "python",
   "nbconvert_exporter": "python",
   "pygments_lexer": "ipython3",
   "version": "3.7.6"
  }
 },
 "nbformat": 4,
 "nbformat_minor": 4
}
